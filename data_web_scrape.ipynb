{
 "cells": [
  {
   "cell_type": "code",
   "execution_count": 1,
   "metadata": {
    "collapsed": true
   },
   "outputs": [],
   "source": [
    "import requests\n",
    "from bs4 import BeautifulSoup\n",
    "import numpy as np\n",
    "import pandas as pd"
   ]
  },
  {
   "cell_type": "markdown",
   "metadata": {},
   "source": [
    "# Scraping with BS4"
   ]
  },
  {
   "cell_type": "code",
   "execution_count": 2,
   "metadata": {
    "collapsed": false
   },
   "outputs": [],
   "source": [
    "url = 'http://www.xeno-canto.org/species/Cercomacra-tyrannina?pg=1&dir=0&order=typ'\n",
    "soup = BeautifulSoup(requests.get(url).text, 'lxml')"
   ]
  },
  {
   "cell_type": "code",
   "execution_count": 3,
   "metadata": {
    "collapsed": false
   },
   "outputs": [],
   "source": [
    "soup_table = soup.find(class_=\"results\")"
   ]
  },
  {
   "cell_type": "code",
   "execution_count": 4,
   "metadata": {
    "collapsed": true
   },
   "outputs": [],
   "source": [
    "icons = soup_table.find_all('td')"
   ]
  },
  {
   "cell_type": "code",
   "execution_count": 5,
   "metadata": {
    "collapsed": false
   },
   "outputs": [
    {
     "name": "stdout",
     "output_type": "stream",
     "text": [
      "<td><a download=\"XC18190 - Dusky Antbird - Cercomacra tyrannina.mp3\" href=\"/18190/download\"><img class=\"icon\" height=\"14\" src=\"/static/img/download.png\" title=\"Download file 'Cercomacra tyrannina_1055_05208.mp3'\" width=\"14\"/></a><a class=\"tooltip\" href=\"/new_thread.php?frontID=18190\" title=\"Open a discussion, mail the recordist\"><img alt=\"discuss icon\" class=\"icon\" height=\"14\" src=\"/static/img/discuss.png\" width=\"14\"/></a><div class=\"rating\">\n",
      "<ul>\n",
      "<li class=\"\" id=\"rating-18190-1\"><span>A</span></li><li class=\"\" id=\"rating-18190-2\"><span>B</span></li><li class=\"selected\" id=\"rating-18190-3\"><span>C</span></li><li class=\"\" id=\"rating-18190-4\"><span>D</span></li><li class=\"\" id=\"rating-18190-5\"><span>E</span></li>\n",
      "</ul>\n",
      "</div></td>\n"
     ]
    }
   ],
   "source": [
    "print icons[11]"
   ]
  },
  {
   "cell_type": "code",
   "execution_count": 6,
   "metadata": {
    "collapsed": false
   },
   "outputs": [
    {
     "name": "stdout",
     "output_type": "stream",
     "text": [
      "/18190/download\n"
     ]
    }
   ],
   "source": [
    "print icons[11].find('a')['href']"
   ]
  },
  {
   "cell_type": "code",
   "execution_count": 7,
   "metadata": {
    "collapsed": true
   },
   "outputs": [],
   "source": [
    "# got it working - now to make it fully automated for song only"
   ]
  },
  {
   "cell_type": "markdown",
   "metadata": {},
   "source": [
    "# Bringing it all home"
   ]
  },
  {
   "cell_type": "code",
   "execution_count": 8,
   "metadata": {
    "collapsed": true
   },
   "outputs": [],
   "source": [
    "# using the following birds based on previous research and geographical interest\n",
    "names = ['dusky_antbird', 'great_antshrike', 'barred_antshrike', 'purple_finch', 'northern_cardinal', \n",
    "         'black-capped_chickadee', 'american_goldfinch', 'tufted_titmouse', 'american_robin', 'baltimore_oriole', \n",
    "         'bluejay', 'bluebird', 'house_finch']\n",
    "\n",
    "urls = ['http://www.xeno-canto.org/species/Cercomacra-tyrannina?pg=1', \n",
    "        'http://www.xeno-canto.org/species/Taraba-major?pg=1', \n",
    "        'http://www.xeno-canto.org/species/Thamnophilus-doliatus?pg=1', \n",
    "        'http://www.xeno-canto.org/species/Haemorhous-purpureus?pg=1', \n",
    "        'http://www.xeno-canto.org/species/Cardinalis-cardinalis?pg=1', \n",
    "        'http://www.xeno-canto.org/species/Poecile-atricapillus?pg=1', \n",
    "        'http://www.xeno-canto.org/species/Spinus-tristis?pg=1', \n",
    "        'http://www.xeno-canto.org/species/Baeolophus-bicolor?pg=1', \n",
    "        'http://www.xeno-canto.org/species/Turdus-migratorius?pg=1', \n",
    "        'http://www.xeno-canto.org/species/Icterus-galbula?pg=1', \n",
    "        'http://www.xeno-canto.org/species/Cyanocitta-cristata?pg=1', \n",
    "        'http://www.xeno-canto.org/species/Sialia-sialis?pg=1', \n",
    "        'http://www.xeno-canto.org/species/Haemorhous-mexicanus?pg=1'\n",
    "       ]\n",
    "\n",
    "all_urls = []"
   ]
  },
  {
   "cell_type": "code",
   "execution_count": 9,
   "metadata": {
    "collapsed": false
   },
   "outputs": [],
   "source": [
    "for url in urls:\n",
    "    soup = BeautifulSoup(requests.get(url).text, 'lxml')\n",
    "    pages = soup.find(class_='results-pages')\n",
    "    last_page = int(pages.find_all('li')[-2].text)\n",
    "    all_urls.append([url[:-1]+str(i) for i in range(1,last_page+1)])"
   ]
  },
  {
   "cell_type": "code",
   "execution_count": 10,
   "metadata": {
    "collapsed": false,
    "scrolled": false
   },
   "outputs": [
    {
     "data": {
      "text/plain": [
       "['http://www.xeno-canto.org/species/Taraba-major?pg=1',\n",
       " 'http://www.xeno-canto.org/species/Taraba-major?pg=2',\n",
       " 'http://www.xeno-canto.org/species/Taraba-major?pg=3',\n",
       " 'http://www.xeno-canto.org/species/Taraba-major?pg=4',\n",
       " 'http://www.xeno-canto.org/species/Taraba-major?pg=5',\n",
       " 'http://www.xeno-canto.org/species/Taraba-major?pg=6',\n",
       " 'http://www.xeno-canto.org/species/Taraba-major?pg=7',\n",
       " 'http://www.xeno-canto.org/species/Taraba-major?pg=8',\n",
       " 'http://www.xeno-canto.org/species/Taraba-major?pg=9']"
      ]
     },
     "execution_count": 10,
     "metadata": {},
     "output_type": "execute_result"
    }
   ],
   "source": [
    "# check we have correct urls\n",
    "\n",
    "all_urls[1]"
   ]
  },
  {
   "cell_type": "code",
   "execution_count": null,
   "metadata": {
    "collapsed": false
   },
   "outputs": [],
   "source": [
    "# get download links\n",
    "\n",
    "download_links = []\n",
    "for species in all_urls:\n",
    "    download_links.append([])\n",
    "    for page in species:\n",
    "        soup = BeautifulSoup(requests.get(page).text, 'lxml')\n",
    "        soup_table = soup.find(class_=\"results\")\n",
    "        soup_rows = soup_table.find_all('tr')\n",
    "        for soup_row in soup_rows[1:]:\n",
    "            elements = soup_row.find_all('td')\n",
    "            if elements[9].text.lower() == 'song ':\n",
    "                download_links[-1].append('http://www.xeno-canto.org'+elements[11].find('a')['href'])   "
   ]
  },
  {
   "cell_type": "code",
   "execution_count": null,
   "metadata": {
    "collapsed": false
   },
   "outputs": [],
   "source": [
    "# write links to to file\n",
    "\n",
    "for species in download_links:\n",
    "    with open('bird_links/'+names[download_links.index(species)]+'.txt', 'w') as f:\n",
    "        for link in species:\n",
    "            f.write(link+'\\n')"
   ]
  },
  {
   "cell_type": "code",
   "execution_count": 11,
   "metadata": {
    "collapsed": false,
    "scrolled": true
   },
   "outputs": [],
   "source": [
    "# now modify so that we find only those with 'A' rating\n",
    "\n",
    "download_links = []\n",
    "for species in all_urls:\n",
    "    download_links.append([])\n",
    "    for page in species:\n",
    "        soup = BeautifulSoup(requests.get(page).text, 'lxml')\n",
    "        soup_table = soup.find(class_=\"results\")\n",
    "        soup_rows = soup_table.find_all('tr')\n",
    "        for soup_row in soup_rows[1:]:\n",
    "            elements = soup_row.find_all('td')\n",
    "            if elements[11].find(class_='selected') == None:\n",
    "                continue\n",
    "            if elements[9].text.lower() == 'song ' and elements[11].find(class_='selected').text == 'A':\n",
    "                download_links[-1].append('http://www.xeno-canto.org'+elements[11].find('a')['href'])"
   ]
  },
  {
   "cell_type": "code",
   "execution_count": 12,
   "metadata": {
    "collapsed": false
   },
   "outputs": [
    {
     "name": "stdout",
     "output_type": "stream",
     "text": [
      "dusky_antbird 39\n",
      "great_antshrike 57\n",
      "barred_antshrike 41\n",
      "purple_finch 12\n",
      "northern_cardinal 47\n",
      "black-capped_chickadee 16\n",
      "american_goldfinch 14\n",
      "tufted_titmouse 25\n",
      "american_robin 39\n",
      "baltimore_oriole 9\n",
      "bluejay 2\n",
      "bluebird 9\n",
      "house_finch 27\n"
     ]
    }
   ],
   "source": [
    "# check how many recordings we have for each bird\n",
    "\n",
    "for i in range(len(download_links)):\n",
    "    print names[i], len(download_links[i])"
   ]
  },
  {
   "cell_type": "code",
   "execution_count": 19,
   "metadata": {
    "collapsed": false
   },
   "outputs": [],
   "source": [
    "# condense so we only have the top 6 birds\n",
    "# write links to file so we can wget to download\n",
    "\n",
    "zipped = zip(names, download_links)\n",
    "cond_download_links = sorted(zipped, key=lambda x: len(x[1]), reverse=True)[:6]\n",
    "\n",
    "for species in cond_download_links:\n",
    "    with open('bird_links/A-bird_links/'+species[0]+'.txt', 'w') as f:\n",
    "        for link in species[1]:\n",
    "            f.write(link+'\\n')"
   ]
  },
  {
   "cell_type": "code",
   "execution_count": 22,
   "metadata": {
    "collapsed": false
   },
   "outputs": [
    {
     "name": "stdout",
     "output_type": "stream",
     "text": [
      "Finished downloading great_antshrike\n",
      "Finished downloading northern_cardinal\n",
      "Finished downloading barred_antshrike\n",
      "Finished downloading dusky_antbird\n",
      "Finished downloading american_robin\n",
      "Finished downloading house_finch\n"
     ]
    }
   ],
   "source": [
    "# condense to only take 6 birds with top number of 'A' recordings \n",
    "# use wget to download the mp3 files\n",
    "\n",
    "for species in cond_download_links:\n",
    "    # this will use the wget bash command to download the links in the textfile and save it to the location specified\n",
    "    # !wget --content-disposition 'bird_links/A-bird_links/'+species[0]+'.txt' -P 'bird_audio/A_rate_only/mp3/A-bird'+str(birdnum)\n",
    "    print 'Finished downloading ' + species[0]"
   ]
  },
  {
   "cell_type": "code",
   "execution_count": 25,
   "metadata": {
    "collapsed": false,
    "scrolled": true
   },
   "outputs": [],
   "source": [
    "# take input from the 'A' mp3 file directories and convert to wav files\n",
    "\n",
    "from pydub import AudioSegment\n",
    "import os\n",
    "\n",
    "for i in os.listdir(os.path.abspath('bird_audio/A_rate_only/mp3/')):\n",
    "    if i[0] == 'A':\n",
    "        for song in os.listdir(os.path.abspath('bird_audio/A_rate_only/mp3/'+i)):\n",
    "            if song[0] == '.':\n",
    "                continue\n",
    "            sound = AudioSegment.from_mp3(os.path.abspath('bird_audio/A_rate_only/mp3/'+i+'/'+song))\n",
    "            sound.export(os.path.abspath('bird_audio/A_rate_only/wav/wav_'+i+'/'+song[:-4]+'.wav'), format=\"wav\")"
   ]
  },
  {
   "cell_type": "code",
   "execution_count": null,
   "metadata": {
    "collapsed": true
   },
   "outputs": [],
   "source": []
  }
 ],
 "metadata": {
  "kernelspec": {
   "display_name": "Python 2",
   "language": "python",
   "name": "python2"
  },
  "language_info": {
   "codemirror_mode": {
    "name": "ipython",
    "version": 2
   },
   "file_extension": ".py",
   "mimetype": "text/x-python",
   "name": "python",
   "nbconvert_exporter": "python",
   "pygments_lexer": "ipython2",
   "version": "2.7.11"
  }
 },
 "nbformat": 4,
 "nbformat_minor": 0
}
